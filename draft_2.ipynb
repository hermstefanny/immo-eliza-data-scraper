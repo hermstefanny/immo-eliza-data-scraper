{
 "cells": [
  {
   "cell_type": "code",
   "execution_count": null,
   "id": "401e723f",
   "metadata": {},
   "outputs": [],
   "source": [
    "from bs4 import BeautifulSoup\n",
    "# import requests\n",
    "from selenium import webdriver\n",
    "from selenium.webdriver.chrome.options import Options\n",
    "from selenium.webdriver.common.by import By\n",
    "# from selenium.webdriver.support.ui import WebDriverWait\n",
    "# from selenium.webdriver.support import expected_conditions as EC\n",
    "\n",
    "from selenium.webdriver.chrome.service import Service as ChromeService\n",
    "from webdriver_manager.chrome import ChromeDriverManager\n",
    "from fake_useragent import UserAgent\n",
    "\n",
    "import time\n",
    "import random\n",
    "import csv"
   ]
  },
  {
   "cell_type": "code",
   "execution_count": null,
   "id": "4d1f56b9",
   "metadata": {},
   "outputs": [],
   "source": [
    "links = []\n",
    "property_codes =[]"
   ]
  },
  {
   "cell_type": "markdown",
   "id": "de5aa4eb",
   "metadata": {},
   "source": [
    "## ImmoVlan"
   ]
  },
  {
   "cell_type": "code",
   "execution_count": null,
   "id": "c3272aab",
   "metadata": {},
   "outputs": [],
   "source": [
    "# get_list_links definition function:\n",
    "def get_listing_links(driver, url:str) -> None:\n",
    "\n",
    "    #options.add_argument(\"disable-infobars\")\n",
    "\n",
    "    #service = ChromeService(executable_path=ChromeDriverManager().install())\n",
    "    #driver = webdriver.Chrome(service=service, options=options)\n",
    "\n",
    "    driver.get(url)\n",
    "    time.sleep(random.uniform(3,7))\n",
    "\n",
    "    # Click the cookie banner if present\n",
    "    try:\n",
    "        # shadow_host = driver.find_element(By.CSS_SELECTOR, \"#usercentrics-root\")\n",
    "        # shadow_root1 = driver.execute_script(\"return arguments[0].shadowRoot\", shadow_host)\n",
    "        # accept_button = shadow_root1.find_element(By.CSS_SELECTOR, \"button[data-testid='uc-accept-all-button']\")\n",
    "        accept_button = driver.find_element(By.ID, \"didomi-notice-agree-button\")\n",
    "        accept_button.click()\n",
    "\n",
    "    except Exception as e:\n",
    "        print(f\"{e}: Cookie banner not found\")\n",
    "\n",
    "    \n",
    "    try:\n",
    "        not_now_button = driver.find_element(By.CLASS_NAME, \"button-link\")\n",
    "        not_now_button.click()\n",
    "    except Exception as e:\n",
    "        print(f\"{e} application banner not found\")\n",
    "                            \n",
    "   \n",
    "    page= driver.page_source  \n",
    "\n",
    "    # Transforming to BeautifulSoup\n",
    "    the_soup = BeautifulSoup(page, 'html.parser') \n",
    "\n",
    "    # Getting all the links from the page\n",
    "    \n",
    "    for card in the_soup.find_all(class_=\"card-title ellipsis pr-2 mt-1 mb-0\"):\n",
    "        print(card)\n",
    "        \n",
    "        link = card.find('a').get('href')\n",
    "        print(link)\n",
    "        links.append(link)\n",
    "    "
   ]
  },
  {
   "cell_type": "code",
   "execution_count": null,
   "id": "795c67cf",
   "metadata": {},
   "outputs": [],
   "source": [
    "# Agent for Random Assignemnt\n",
    "ua = UserAgent()\n",
    "\n",
    "# Options for Driver\n",
    "options = Options() \n",
    "options.add_argument(\"start-maximized\")\n",
    "options.add_argument(f\"user-agent={ua.random}\")\n",
    "options.add_argument(\"--enable-javascript\") \n",
    "options.add_experimental_option(\"excludeSwitches\", ['enable-automation'])\n",
    "options.add_experimental_option('useAutomationExtension', False)\n",
    "\n",
    "# Selenium Driver\n",
    "driver = webdriver.Chrome(service=ChromeService(ChromeDriverManager().install()), options=options)\n",
    "driver.execute_cdp_cmd(\"Page.addScriptToEvaluateOnNewDocument\", {\n",
    "    \"source\": \"Object.defineProperty(navigator, 'webdriver', {get: () => undefined})\"\n",
    "})\n",
    "provinces =['antwerp', 'vlaams-brabant', 'brabant-wallon','east-flanders','west-flanders','hainaut','brussels','liege','limburg','namur','luxembourg' ]\n",
    "\n",
    "province = 'luxembourg'\n",
    "for page in range(1,51):\n",
    "    #listing_url = f'https://immovlan.be/en/real-estate?transactiontypes=for-sale,in-public-sale&propertytypes=house,apartment&islifeannuity=no&page={str(page)}&noindex=1'\n",
    "    listing_url = f\"https://immovlan.be/en/real-estate?transactiontypes=for-sale,in-public-sale&propertytypes=house,apartment&provinces={province}&islifeannuity=no&page={str(page)}&noindex=1\"\n",
    "    \n",
    "    get_listing_links(driver, listing_url)"
   ]
  },
  {
   "cell_type": "code",
   "execution_count": null,
   "id": "b29c089e",
   "metadata": {},
   "outputs": [],
   "source": [
    "links"
   ]
  },
  {
   "cell_type": "code",
   "execution_count": null,
   "id": "73a128f9",
   "metadata": {},
   "outputs": [],
   "source": [
    "driver.close()"
   ]
  },
  {
   "cell_type": "code",
   "execution_count": null,
   "id": "48ba7f4f",
   "metadata": {},
   "outputs": [],
   "source": [
    "with open(\"listing_links.csv\", \"w\") as file:\n",
    "    csv_writer = csv.writer(file)\n",
    "    for link in links:\n",
    "        csv_writer.writerow([link])"
   ]
  },
  {
   "cell_type": "markdown",
   "id": "ada0908e",
   "metadata": {},
   "source": [
    "#### Merging of all csv files to complete csv"
   ]
  },
  {
   "cell_type": "code",
   "execution_count": 1,
   "id": "16ad8eb0",
   "metadata": {},
   "outputs": [
    {
     "name": "stdout",
     "output_type": "stream",
     "text": [
      "c:\\Users\\herms\\Desktop\\BeCode-Bauman\\TheHill_Projects\\immo-eliza-data-scraper\n",
      "['complete_listing_links.csv', 'listing_links-1-3-prov.csv', 'listing_links-10-11.csv', 'listing_links-4-6-prov.csv', 'listing_links-7-9-prov.csv']\n"
     ]
    },
    {
     "data": {
      "application/vnd.microsoft.datawrangler.viewer.v0+json": {
       "columns": [
        {
         "name": "index",
         "rawType": "int64",
         "type": "integer"
        },
        {
         "name": "link",
         "rawType": "object",
         "type": "string"
        }
       ],
       "ref": "8282d4c1-02b4-4de6-a48b-400608304834",
       "rows": [
        [
         "1",
         "https://immovlan.be/en/projectdetail/1485771-01267921_om_245264"
        ],
        [
         "2",
         "https://immovlan.be/en/detail/residence/for-sale/2500/lier/rbt69212"
        ],
        [
         "3",
         "https://immovlan.be/en/detail/residence/for-sale/2440/geel/rbt67563"
        ],
        [
         "4",
         "https://immovlan.be/en/detail/apartment/for-sale/2260/zoerle-parwijs/rbt67578"
        ],
        [
         "5",
         "https://immovlan.be/en/detail/apartment/for-sale/2500/lier/rbt67552"
        ],
        [
         "6",
         "https://immovlan.be/en/detail/apartment/for-sale/2500/lier/rbt67551"
        ],
        [
         "7",
         "https://immovlan.be/en/detail/residence/for-sale/2300/turnhout/rbt66812"
        ],
        [
         "8",
         "https://immovlan.be/en/detail/ground-floor/for-sale/2650/edegem/rbt66872"
        ],
        [
         "9",
         "https://immovlan.be/en/detail/apartment/for-sale/2300/turnhout/rbt66859"
        ],
        [
         "10",
         "https://immovlan.be/en/detail/residence/for-sale/2300/turnhout/rbt66819"
        ],
        [
         "11",
         "https://immovlan.be/en/detail/residence/for-sale/2300/turnhout/rbt66818"
        ],
        [
         "12",
         "https://immovlan.be/en/detail/residence/for-sale/2800/mechelen/rbt66782"
        ],
        [
         "13",
         "https://immovlan.be/en/detail/residence/for-sale/2830/willebroek/rbt66249"
        ],
        [
         "14",
         "https://immovlan.be/en/detail/residence/for-sale/2860/sint-katelijne-waver/rbt66214"
        ],
        [
         "15",
         "https://immovlan.be/en/detail/residence/for-sale/2840/rumst/rbt66244"
        ],
        [
         "16",
         "https://immovlan.be/en/projectdetail/1485769-00955250_om_246200"
        ],
        [
         "17",
         "https://immovlan.be/en/projectdetail/2480528-rmg01404929_om_246131"
        ],
        [
         "18",
         "https://immovlan.be/en/projectdetail/1485771-01267921_om_245887"
        ],
        [
         "19",
         "https://immovlan.be/en/projectdetail/2498072-rmg01405617_om_245735"
        ],
        [
         "20",
         "https://immovlan.be/en/projectdetail/2637457-rmg01411876_om_242479"
        ],
        [
         "21",
         "https://immovlan.be/en/projectdetail/1485770-01267920_om_245482"
        ],
        [
         "22",
         "https://immovlan.be/en/projectdetail/1485770-01267920_om_245336"
        ],
        [
         "23",
         "https://immovlan.be/en/projectdetail/1485769-00955250_om_245336"
        ],
        [
         "24",
         "https://immovlan.be/en/projectdetail/1485771-01267921_om_245323"
        ],
        [
         "25",
         "https://immovlan.be/en/projectdetail/1177867-01131947_om_5945"
        ],
        [
         "26",
         "https://immovlan.be/en/projectdetail/1737550-01335585_om_245530"
        ],
        [
         "27",
         "https://immovlan.be/en/projectdetail/1541941-4014916"
        ],
        [
         "28",
         "https://immovlan.be/en/projectdetail/1485771-01267921_om_245268"
        ],
        [
         "29",
         "https://immovlan.be/en/projectdetail/1649567-01318520_om_244997"
        ],
        [
         "30",
         "https://immovlan.be/en/projectdetail/2480528-rmg01404929_om_245081"
        ],
        [
         "31",
         "https://immovlan.be/en/projectdetail/2480528-rmg01404929_om_244997"
        ],
        [
         "32",
         "https://immovlan.be/en/projectdetail/1151493-5567320"
        ],
        [
         "33",
         "https://immovlan.be/en/detail/duplex/for-sale/2320/hoogstraten/rbt65268"
        ],
        [
         "34",
         "https://immovlan.be/en/projectdetail/1485771-01267921_om_244765"
        ],
        [
         "35",
         "https://immovlan.be/en/projectdetail/1485771-01267921_om_244762"
        ],
        [
         "36",
         "https://immovlan.be/en/projectdetail/1485771-01267921_om_244758"
        ],
        [
         "37",
         "https://immovlan.be/en/projectdetail/1485771-01267921_om_244679"
        ],
        [
         "38",
         "https://immovlan.be/en/projectdetail/1485770-01267920_om_244892"
        ],
        [
         "39",
         "https://immovlan.be/en/detail/apartment/for-sale/2440/geel/rbt65085"
        ],
        [
         "40",
         "https://immovlan.be/en/projectdetail/24941-6804708"
        ],
        [
         "41",
         "https://immovlan.be/en/projectdetail/1485771-01267921_om_244179"
        ],
        [
         "42",
         "https://immovlan.be/en/projectdetail/1485771-01267921_om_243811"
        ],
        [
         "43",
         "https://immovlan.be/en/projectdetail/1819244-01353908_om_244056"
        ],
        [
         "44",
         "https://immovlan.be/en/detail/ground-floor/for-sale/2530/boechout/rbt63373"
        ],
        [
         "45",
         "https://immovlan.be/en/projectdetail/1485768-01267924_om_241801"
        ],
        [
         "46",
         "https://immovlan.be/en/projectdetail/1485769-00955250_om_239896"
        ],
        [
         "47",
         "https://immovlan.be/en/projectdetail/24431-p-vk2196-rfzl7v2s"
        ],
        [
         "48",
         "https://immovlan.be/en/projectdetail/25679-3926525"
        ],
        [
         "49",
         "https://immovlan.be/en/projectdetail/22363-3475736"
        ],
        [
         "50",
         "https://immovlan.be/en/projectdetail/22363-3133867"
        ]
       ],
       "shape": {
        "columns": 1,
        "rows": 22000
       }
      },
      "text/html": [
       "<div>\n",
       "<style scoped>\n",
       "    .dataframe tbody tr th:only-of-type {\n",
       "        vertical-align: middle;\n",
       "    }\n",
       "\n",
       "    .dataframe tbody tr th {\n",
       "        vertical-align: top;\n",
       "    }\n",
       "\n",
       "    .dataframe thead th {\n",
       "        text-align: right;\n",
       "    }\n",
       "</style>\n",
       "<table border=\"1\" class=\"dataframe\">\n",
       "  <thead>\n",
       "    <tr style=\"text-align: right;\">\n",
       "      <th></th>\n",
       "      <th>link</th>\n",
       "    </tr>\n",
       "  </thead>\n",
       "  <tbody>\n",
       "    <tr>\n",
       "      <th>1</th>\n",
       "      <td>https://immovlan.be/en/projectdetail/1485771-0...</td>\n",
       "    </tr>\n",
       "    <tr>\n",
       "      <th>2</th>\n",
       "      <td>https://immovlan.be/en/detail/residence/for-sa...</td>\n",
       "    </tr>\n",
       "    <tr>\n",
       "      <th>3</th>\n",
       "      <td>https://immovlan.be/en/detail/residence/for-sa...</td>\n",
       "    </tr>\n",
       "    <tr>\n",
       "      <th>4</th>\n",
       "      <td>https://immovlan.be/en/detail/apartment/for-sa...</td>\n",
       "    </tr>\n",
       "    <tr>\n",
       "      <th>5</th>\n",
       "      <td>https://immovlan.be/en/detail/apartment/for-sa...</td>\n",
       "    </tr>\n",
       "    <tr>\n",
       "      <th>...</th>\n",
       "      <td>...</td>\n",
       "    </tr>\n",
       "    <tr>\n",
       "      <th>21996</th>\n",
       "      <td>https://immovlan.be/en/detail/residence/for-sa...</td>\n",
       "    </tr>\n",
       "    <tr>\n",
       "      <th>21997</th>\n",
       "      <td>https://immovlan.be/en/detail/residence/for-sa...</td>\n",
       "    </tr>\n",
       "    <tr>\n",
       "      <th>21998</th>\n",
       "      <td>https://immovlan.be/en/detail/residence/for-sa...</td>\n",
       "    </tr>\n",
       "    <tr>\n",
       "      <th>21999</th>\n",
       "      <td>https://immovlan.be/en/detail/residence/for-sa...</td>\n",
       "    </tr>\n",
       "    <tr>\n",
       "      <th>22000</th>\n",
       "      <td>https://immovlan.be/en/detail/residence/for-sa...</td>\n",
       "    </tr>\n",
       "  </tbody>\n",
       "</table>\n",
       "<p>22000 rows × 1 columns</p>\n",
       "</div>"
      ],
      "text/plain": [
       "                                                    link\n",
       "1      https://immovlan.be/en/projectdetail/1485771-0...\n",
       "2      https://immovlan.be/en/detail/residence/for-sa...\n",
       "3      https://immovlan.be/en/detail/residence/for-sa...\n",
       "4      https://immovlan.be/en/detail/apartment/for-sa...\n",
       "5      https://immovlan.be/en/detail/apartment/for-sa...\n",
       "...                                                  ...\n",
       "21996  https://immovlan.be/en/detail/residence/for-sa...\n",
       "21997  https://immovlan.be/en/detail/residence/for-sa...\n",
       "21998  https://immovlan.be/en/detail/residence/for-sa...\n",
       "21999  https://immovlan.be/en/detail/residence/for-sa...\n",
       "22000  https://immovlan.be/en/detail/residence/for-sa...\n",
       "\n",
       "[22000 rows x 1 columns]"
      ]
     },
     "execution_count": 1,
     "metadata": {},
     "output_type": "execute_result"
    }
   ],
   "source": [
    "\n",
    "import os\n",
    "import pandas as pd\n",
    "\n",
    "current_directory = os.getcwd()\n",
    "print(current_directory)\n",
    "csv_file_list = [file for file in os.listdir(current_directory) if file.endswith('.csv')]\n",
    "print(csv_file_list)\n",
    "\n",
    "dfs= []\n",
    "\n",
    "for file in csv_file_list:\n",
    "    df = pd.read_csv(file, names=['link'])\n",
    "    dfs.append(df)\n",
    "\n",
    "complete_df = pd.concat(dfs, ignore_index=True)\n",
    "complete_df =complete_df[1:]\n",
    "complete_df \n"
   ]
  },
  {
   "cell_type": "markdown",
   "id": "71ca6d64",
   "metadata": {},
   "source": [
    "##### Removing all links concerning to projects"
   ]
  },
  {
   "cell_type": "code",
   "execution_count": 2,
   "id": "e7edf9e9",
   "metadata": {},
   "outputs": [
    {
     "data": {
      "application/vnd.microsoft.datawrangler.viewer.v0+json": {
       "columns": [
        {
         "name": "index",
         "rawType": "int64",
         "type": "integer"
        },
        {
         "name": "link",
         "rawType": "object",
         "type": "string"
        }
       ],
       "ref": "fc8992c1-f013-4edd-a689-5eeeefffa377",
       "rows": [
        [
         "2",
         "https://immovlan.be/en/detail/residence/for-sale/2500/lier/rbt69212"
        ],
        [
         "3",
         "https://immovlan.be/en/detail/residence/for-sale/2440/geel/rbt67563"
        ],
        [
         "4",
         "https://immovlan.be/en/detail/apartment/for-sale/2260/zoerle-parwijs/rbt67578"
        ],
        [
         "5",
         "https://immovlan.be/en/detail/apartment/for-sale/2500/lier/rbt67552"
        ],
        [
         "6",
         "https://immovlan.be/en/detail/apartment/for-sale/2500/lier/rbt67551"
        ],
        [
         "7",
         "https://immovlan.be/en/detail/residence/for-sale/2300/turnhout/rbt66812"
        ],
        [
         "8",
         "https://immovlan.be/en/detail/ground-floor/for-sale/2650/edegem/rbt66872"
        ],
        [
         "9",
         "https://immovlan.be/en/detail/apartment/for-sale/2300/turnhout/rbt66859"
        ],
        [
         "10",
         "https://immovlan.be/en/detail/residence/for-sale/2300/turnhout/rbt66819"
        ],
        [
         "11",
         "https://immovlan.be/en/detail/residence/for-sale/2300/turnhout/rbt66818"
        ],
        [
         "12",
         "https://immovlan.be/en/detail/residence/for-sale/2800/mechelen/rbt66782"
        ],
        [
         "13",
         "https://immovlan.be/en/detail/residence/for-sale/2830/willebroek/rbt66249"
        ],
        [
         "14",
         "https://immovlan.be/en/detail/residence/for-sale/2860/sint-katelijne-waver/rbt66214"
        ],
        [
         "15",
         "https://immovlan.be/en/detail/residence/for-sale/2840/rumst/rbt66244"
        ],
        [
         "33",
         "https://immovlan.be/en/detail/duplex/for-sale/2320/hoogstraten/rbt65268"
        ],
        [
         "39",
         "https://immovlan.be/en/detail/apartment/for-sale/2440/geel/rbt65085"
        ],
        [
         "44",
         "https://immovlan.be/en/detail/ground-floor/for-sale/2530/boechout/rbt63373"
        ],
        [
         "56",
         "https://immovlan.be/en/detail/apartment/for-sale/2150/borsbeek/rbt72242"
        ],
        [
         "57",
         "https://immovlan.be/en/detail/residence/for-sale/2490/balen/rbt72153"
        ],
        [
         "58",
         "https://immovlan.be/en/detail/apartment/for-sale/2400/mol/rbt72152"
        ],
        [
         "59",
         "https://immovlan.be/en/detail/apartment/for-sale/2200/herentals/rbt72135"
        ],
        [
         "60",
         "https://immovlan.be/en/detail/apartment/for-sale/2200/herentals/rbt72132"
        ],
        [
         "61",
         "https://immovlan.be/en/detail/apartment/for-sale/2340/beerse/rbt72122"
        ],
        [
         "62",
         "https://immovlan.be/en/detail/residence/for-sale/2310/rijkevorsel/rbt72120"
        ],
        [
         "63",
         "https://immovlan.be/en/detail/apartment/for-sale/2300/turnhout/rbt72119"
        ],
        [
         "64",
         "https://immovlan.be/en/detail/residence/for-sale/2300/turnhout/rbt72117"
        ],
        [
         "65",
         "https://immovlan.be/en/detail/residence/for-sale/2470/retie/rbt72116"
        ],
        [
         "66",
         "https://immovlan.be/en/detail/residence/for-sale/2660/hoboken/rbt72113"
        ],
        [
         "67",
         "https://immovlan.be/en/detail/duplex/for-sale/2930/brasschaat/rbt72082"
        ],
        [
         "68",
         "https://immovlan.be/en/detail/villa/for-sale/2460/lichtaart/rbt72081"
        ],
        [
         "69",
         "https://immovlan.be/en/detail/apartment/for-sale/2100/deurne/rbt72075"
        ],
        [
         "70",
         "https://immovlan.be/en/detail/residence/for-sale/2018/antwerp/rbt72057"
        ],
        [
         "71",
         "https://immovlan.be/en/detail/residence/for-sale/2018/antwerp/rbt72056"
        ],
        [
         "72",
         "https://immovlan.be/en/detail/residence/for-sale/2018/antwerp/rbt72055"
        ],
        [
         "73",
         "https://immovlan.be/en/detail/residence/for-sale/2140/borgerhout/rbt72053"
        ],
        [
         "74",
         "https://immovlan.be/en/detail/residence/for-sale/2018/antwerp/rbt72052"
        ],
        [
         "75",
         "https://immovlan.be/en/detail/residence/for-sale/2920/kalmthout/rbt72040"
        ],
        [
         "76",
         "https://immovlan.be/en/detail/apartment/for-sale/2845/niel/rbt72007"
        ],
        [
         "77",
         "https://immovlan.be/en/detail/residence/for-sale/2490/balen/rbt71982"
        ],
        [
         "78",
         "https://immovlan.be/en/detail/apartment/for-sale/2800/mechelen/rbt71976"
        ],
        [
         "79",
         "https://immovlan.be/en/detail/ground-floor/for-sale/2100/deurne/rbt71973"
        ],
        [
         "80",
         "https://immovlan.be/en/detail/apartment/for-sale/2020/antwerp/rbt71886"
        ],
        [
         "81",
         "https://immovlan.be/en/detail/chalet/for-sale/2235/hulshout/rbt71880"
        ],
        [
         "82",
         "https://immovlan.be/en/detail/mixed-building/for-sale/2170/merksem/rbt71857"
        ],
        [
         "83",
         "https://immovlan.be/en/detail/apartment/for-sale/2100/deurne/rbt71856"
        ],
        [
         "84",
         "https://immovlan.be/en/detail/studio/for-sale/2000/antwerp/rbt71832"
        ],
        [
         "85",
         "https://immovlan.be/en/detail/residence/for-sale/2235/westmeerbeek/rbt71820"
        ],
        [
         "86",
         "https://immovlan.be/en/detail/residence/for-sale/2850/boom/rbt71819"
        ],
        [
         "87",
         "https://immovlan.be/en/detail/residence/for-sale/2550/kontich/rbt71818"
        ],
        [
         "88",
         "https://immovlan.be/en/detail/residence/for-sale/2660/hoboken/rbt71817"
        ]
       ],
       "shape": {
        "columns": 1,
        "rows": 19944
       }
      },
      "text/html": [
       "<div>\n",
       "<style scoped>\n",
       "    .dataframe tbody tr th:only-of-type {\n",
       "        vertical-align: middle;\n",
       "    }\n",
       "\n",
       "    .dataframe tbody tr th {\n",
       "        vertical-align: top;\n",
       "    }\n",
       "\n",
       "    .dataframe thead th {\n",
       "        text-align: right;\n",
       "    }\n",
       "</style>\n",
       "<table border=\"1\" class=\"dataframe\">\n",
       "  <thead>\n",
       "    <tr style=\"text-align: right;\">\n",
       "      <th></th>\n",
       "      <th>link</th>\n",
       "    </tr>\n",
       "  </thead>\n",
       "  <tbody>\n",
       "    <tr>\n",
       "      <th>2</th>\n",
       "      <td>https://immovlan.be/en/detail/residence/for-sa...</td>\n",
       "    </tr>\n",
       "    <tr>\n",
       "      <th>3</th>\n",
       "      <td>https://immovlan.be/en/detail/residence/for-sa...</td>\n",
       "    </tr>\n",
       "    <tr>\n",
       "      <th>4</th>\n",
       "      <td>https://immovlan.be/en/detail/apartment/for-sa...</td>\n",
       "    </tr>\n",
       "    <tr>\n",
       "      <th>5</th>\n",
       "      <td>https://immovlan.be/en/detail/apartment/for-sa...</td>\n",
       "    </tr>\n",
       "    <tr>\n",
       "      <th>6</th>\n",
       "      <td>https://immovlan.be/en/detail/apartment/for-sa...</td>\n",
       "    </tr>\n",
       "    <tr>\n",
       "      <th>...</th>\n",
       "      <td>...</td>\n",
       "    </tr>\n",
       "    <tr>\n",
       "      <th>21996</th>\n",
       "      <td>https://immovlan.be/en/detail/residence/for-sa...</td>\n",
       "    </tr>\n",
       "    <tr>\n",
       "      <th>21997</th>\n",
       "      <td>https://immovlan.be/en/detail/residence/for-sa...</td>\n",
       "    </tr>\n",
       "    <tr>\n",
       "      <th>21998</th>\n",
       "      <td>https://immovlan.be/en/detail/residence/for-sa...</td>\n",
       "    </tr>\n",
       "    <tr>\n",
       "      <th>21999</th>\n",
       "      <td>https://immovlan.be/en/detail/residence/for-sa...</td>\n",
       "    </tr>\n",
       "    <tr>\n",
       "      <th>22000</th>\n",
       "      <td>https://immovlan.be/en/detail/residence/for-sa...</td>\n",
       "    </tr>\n",
       "  </tbody>\n",
       "</table>\n",
       "<p>19944 rows × 1 columns</p>\n",
       "</div>"
      ],
      "text/plain": [
       "                                                    link\n",
       "2      https://immovlan.be/en/detail/residence/for-sa...\n",
       "3      https://immovlan.be/en/detail/residence/for-sa...\n",
       "4      https://immovlan.be/en/detail/apartment/for-sa...\n",
       "5      https://immovlan.be/en/detail/apartment/for-sa...\n",
       "6      https://immovlan.be/en/detail/apartment/for-sa...\n",
       "...                                                  ...\n",
       "21996  https://immovlan.be/en/detail/residence/for-sa...\n",
       "21997  https://immovlan.be/en/detail/residence/for-sa...\n",
       "21998  https://immovlan.be/en/detail/residence/for-sa...\n",
       "21999  https://immovlan.be/en/detail/residence/for-sa...\n",
       "22000  https://immovlan.be/en/detail/residence/for-sa...\n",
       "\n",
       "[19944 rows x 1 columns]"
      ]
     },
     "execution_count": 2,
     "metadata": {},
     "output_type": "execute_result"
    }
   ],
   "source": [
    "final_df = complete_df[~complete_df['link'].str.contains('project')]\n",
    "#final_df =final_df[1:]\n",
    "final_df"
   ]
  },
  {
   "cell_type": "code",
   "execution_count": 5,
   "id": "afc8a4f1",
   "metadata": {},
   "outputs": [],
   "source": [
    "\n",
    "final_df.to_csv(\"final_listing_links.csv\", index=False)\n",
    "\n"
   ]
  },
  {
   "cell_type": "markdown",
   "id": "66fe206b",
   "metadata": {},
   "source": [
    "## Immoweb"
   ]
  },
  {
   "cell_type": "code",
   "execution_count": null,
   "id": "23b0e40b",
   "metadata": {},
   "outputs": [],
   "source": [
    "# get_list_links definition function:\n",
    "def get_listing_links(driver, url:str) -> None:\n",
    "\n",
    "    #options.add_argument(\"disable-infobars\")\n",
    "\n",
    "    #service = ChromeService(executable_path=ChromeDriverManager().install())\n",
    "    #driver = webdriver.Chrome(service=service, options=options)\n",
    "\n",
    "    driver.get(url)\n",
    "    time.sleep(random.uniform(3,8))\n",
    "\n",
    "    # Click the cookie banner if present\n",
    "    try:\n",
    "        shadow_host = driver.find_element(By.CSS_SELECTOR, \"#usercentrics-root\")\n",
    "        shadow_root1 = driver.execute_script(\"return arguments[0].shadowRoot\", shadow_host)\n",
    "        accept_button = shadow_root1.find_element(By.CSS_SELECTOR, \"button[data-testid='uc-accept-all-button']\")\n",
    "        accept_button.click()\n",
    "    except Exception as e:\n",
    "        print(f\"{e}: Cookie banner not found\")\n",
    "                            \n",
    "   \n",
    "    page= driver.page_source  \n",
    "\n",
    "    # Transforming to BeautifulSoup\n",
    "    the_soup = BeautifulSoup(page, 'html.parser') \n",
    "\n",
    "    # Getting all the links from the page\n",
    "    \n",
    "    for card in the_soup.find_all(class_=\"card__title-link\"):\n",
    "        link = card.get('href')\n",
    "        links.append(link)\n",
    "        property_codes.append(link.rsplit('/', 1)[-1])\n"
   ]
  },
  {
   "cell_type": "code",
   "execution_count": null,
   "id": "f83546cf",
   "metadata": {},
   "outputs": [],
   "source": [
    "# Agent for Random Assignemnt\n",
    "ua = UserAgent()\n",
    "\n",
    "# Options for Driver\n",
    "options = Options() \n",
    "options.add_argument(\"start-maximized\")\n",
    "options.add_argument(f\"user-agent={ua.random}\")\n",
    "options.add_argument(\"--enable-javascript\") \n",
    "options.add_experimental_option(\"excludeSwitches\", ['enable-automation'])\n",
    "options.add_experimental_option('useAutomationExtension', False)\n",
    "\n",
    "# Selenium Driver\n",
    "driver = webdriver.Chrome(service=ChromeService(ChromeDriverManager().install()), options=options)\n",
    "driver.execute_cdp_cmd(\"Page.addScriptToEvaluateOnNewDocument\", {\n",
    "    \"source\": \"Object.defineProperty(navigator, 'webdriver', {get: () => undefined})\"\n",
    "})\n",
    "\n",
    "for page in range(1,4):\n",
    "    first_part_url = 'https://www.immoweb.be/en/search/house-and-apartment/for-sale?countries=BE&isALifeAnnuitySale=false&page='\n",
    "    listing_url = 'https://www.immoweb.be/en/search/house-and-apartment/for-sale?countries=BE&page='+str(page)+'&orderBy=relevance'\n",
    "\n",
    "    get_listing_links(driver, listing_url)"
   ]
  },
  {
   "cell_type": "code",
   "execution_count": null,
   "id": "fee9f88d",
   "metadata": {},
   "outputs": [],
   "source": []
  },
  {
   "cell_type": "code",
   "execution_count": null,
   "id": "3c5ce802",
   "metadata": {},
   "outputs": [],
   "source": [
    "# Creating the URLs\n",
    "for page in range(1,4):\n",
    "    first_part_url = 'https://www.immoweb.be/en/search/house-and-apartment/for-sale?countries=BE&isALifeAnnuitySale=false&page='\n",
    "    listing_url = 'https://www.immoweb.be/en/search/house-and-apartment/for-sale?countries=BE&page='+str(page)+'&orderBy=relevance'\n",
    "\n",
    "    get_listing_links(listing_url)"
   ]
  },
  {
   "cell_type": "markdown",
   "id": "3a5adba5",
   "metadata": {},
   "source": [
    "### Code for one page"
   ]
  },
  {
   "cell_type": "code",
   "execution_count": null,
   "id": "35023ac7",
   "metadata": {},
   "outputs": [],
   "source": [
    "## house_and_appt = 'https://www.immoweb.be/en/search/house-and-apartment/for-sale'"
   ]
  },
  {
   "cell_type": "code",
   "execution_count": null,
   "id": "fd1b8084",
   "metadata": {},
   "outputs": [],
   "source": [
    "first_part_url = 'https://www.immoweb.be/en/search/house-and-apartment/for-sale?countries=BE&isALifeAnnuitySale=false&page='"
   ]
  },
  {
   "cell_type": "code",
   "execution_count": null,
   "id": "8a9cb7a0",
   "metadata": {},
   "outputs": [],
   "source": [
    "number_pages = [1,2,3]\n",
    "page_number = 1"
   ]
  },
  {
   "cell_type": "code",
   "execution_count": null,
   "id": "e610358a",
   "metadata": {},
   "outputs": [],
   "source": [
    "listing_url = 'https://www.immoweb.be/en/search/house-and-apartment/for-sale?countries=BE&page='+str(page_number)+'&orderBy=relevance'\n",
    "listing_url"
   ]
  },
  {
   "cell_type": "code",
   "execution_count": null,
   "id": "cd872896",
   "metadata": {},
   "outputs": [],
   "source": [
    "\n",
    "options = Options()\n",
    "options.add_argument(\"start-maximized\")\n",
    "options.add_argument(\"disable-infobars\")\n",
    "options.add_argument(\"--enable-javascript\") \n",
    "options.add_experimental_option(\"excludeSwitches\", ['enable-automation'])\n",
    "service = ChromeService(executable_path=ChromeDriverManager().install())\n",
    "driver = webdriver.Chrome(service=service, options=options)\n",
    "url = listing_url\n",
    "\n",
    "driver.get(url)\n",
    "time.sleep(5)\n",
    "\n",
    "shadow_host = driver\n",
    "#ok_button = wait.until(EC.presence_of_element_located((By.CSS_SELECTOR, \"button[data-testid = 'uc-accept-all-button']\")))\n",
    "\n",
    "shadow_host = driver.find_element(By.CSS_SELECTOR, \"#usercentrics-root\")\n",
    "shadow_root1 = driver.execute_script(\"return arguments[0].shadowRoot\", shadow_host)\n",
    "accept_button = shadow_root1.find_element(By.CSS_SELECTOR, \"button[data-testid='uc-accept-all-button']\")\n",
    "accept_button.click()\n",
    "                           \n",
    "print(\"SSSSSSSSSSSSSSSSS\")\n",
    "page= driver.page_source \n",
    "page\n"
   ]
  },
  {
   "cell_type": "code",
   "execution_count": null,
   "id": "8d29d250",
   "metadata": {},
   "outputs": [],
   "source": [
    "the_soup = BeautifulSoup(page, 'html.parser') \n",
    "the_soup"
   ]
  },
  {
   "cell_type": "code",
   "execution_count": null,
   "id": "e4a2a645",
   "metadata": {},
   "outputs": [],
   "source": [
    "links = []\n",
    "for card in the_soup.find_all(class_=\"card__title-link\"):\n",
    "    links.append(card.get('href'))"
   ]
  },
  {
   "cell_type": "code",
   "execution_count": null,
   "id": "ee16e49f",
   "metadata": {},
   "outputs": [],
   "source": [
    "for link in links:\n",
    "    print(link)"
   ]
  },
  {
   "cell_type": "code",
   "execution_count": null,
   "id": "bb089e4b",
   "metadata": {},
   "outputs": [],
   "source": [
    "property_codes =[]\n",
    "for link in links:\n",
    "    property_codes.append(link.rsplit('/', 1)[-1])"
   ]
  },
  {
   "cell_type": "markdown",
   "id": "bb3b31e0",
   "metadata": {},
   "source": [
    "### Comprising in dict"
   ]
  },
  {
   "cell_type": "code",
   "execution_count": null,
   "id": "17089bc9",
   "metadata": {},
   "outputs": [],
   "source": [
    "links_with_code = dict(zip(property_codes, links))"
   ]
  },
  {
   "cell_type": "code",
   "execution_count": null,
   "id": "da78c823",
   "metadata": {},
   "outputs": [],
   "source": [
    "for k, v in links_with_code.items():\n",
    "    print(f\"code: {k} for property {v}\")"
   ]
  },
  {
   "cell_type": "code",
   "execution_count": null,
   "id": "65c5bafe",
   "metadata": {},
   "outputs": [],
   "source": [
    "driver.close()"
   ]
  }
 ],
 "metadata": {
  "kernelspec": {
   "display_name": "venv",
   "language": "python",
   "name": "python3"
  },
  "language_info": {
   "codemirror_mode": {
    "name": "ipython",
    "version": 3
   },
   "file_extension": ".py",
   "mimetype": "text/x-python",
   "name": "python",
   "nbconvert_exporter": "python",
   "pygments_lexer": "ipython3",
   "version": "3.10.4"
  }
 },
 "nbformat": 4,
 "nbformat_minor": 5
}
