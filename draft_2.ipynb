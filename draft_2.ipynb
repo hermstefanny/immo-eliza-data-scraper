{
 "cells": [
  {
   "cell_type": "code",
   "execution_count": null,
   "id": "401e723f",
   "metadata": {},
   "outputs": [],
   "source": [
    "from bs4 import BeautifulSoup\n",
    "# import requests\n",
    "from selenium import webdriver\n",
    "from selenium.webdriver.chrome.options import Options\n",
    "from selenium.webdriver.common.by import By\n",
    "# from selenium.webdriver.support.ui import WebDriverWait\n",
    "# from selenium.webdriver.support import expected_conditions as EC\n",
    "\n",
    "from selenium.webdriver.chrome.service import Service as ChromeService\n",
    "from webdriver_manager.chrome import ChromeDriverManager\n",
    "from fake_useragent import UserAgent\n",
    "\n",
    "import time\n",
    "import random\n",
    "import csv"
   ]
  },
  {
   "cell_type": "code",
   "execution_count": 2,
   "id": "4d1f56b9",
   "metadata": {},
   "outputs": [],
   "source": [
    "links = []\n",
    "property_codes =[]"
   ]
  },
  {
   "cell_type": "markdown",
   "id": "de5aa4eb",
   "metadata": {},
   "source": [
    "## ImmoVlan"
   ]
  },
  {
   "cell_type": "code",
   "execution_count": null,
   "id": "8305bf66",
   "metadata": {},
   "outputs": [],
   "source": [
    "'https://immovlan.be/en/real-estate?transactiontypes=for-sale,in-public-sale&propertytypes=house,apartment&islifeannuity=no&page=1&noindex=1'"
   ]
  },
  {
   "cell_type": "code",
   "execution_count": 3,
   "id": "c3272aab",
   "metadata": {},
   "outputs": [],
   "source": [
    "# get_list_links definition function:\n",
    "def get_listing_links(driver, url:str) -> None:\n",
    "\n",
    "    #options.add_argument(\"disable-infobars\")\n",
    "\n",
    "    #service = ChromeService(executable_path=ChromeDriverManager().install())\n",
    "    #driver = webdriver.Chrome(service=service, options=options)\n",
    "\n",
    "    driver.get(url)\n",
    "    time.sleep(random.uniform(3,8))\n",
    "\n",
    "    # Click the cookie banner if present\n",
    "    try:\n",
    "        # shadow_host = driver.find_element(By.CSS_SELECTOR, \"#usercentrics-root\")\n",
    "        # shadow_root1 = driver.execute_script(\"return arguments[0].shadowRoot\", shadow_host)\n",
    "        # accept_button = shadow_root1.find_element(By.CSS_SELECTOR, \"button[data-testid='uc-accept-all-button']\")\n",
    "        accept_button = driver.find_element(By.ID, \"didomi-notice-agree-button\")\n",
    "        accept_button.click()\n",
    "\n",
    "    except Exception as e:\n",
    "        print(f\"{e}: Cookie banner not found\")\n",
    "\n",
    "    \n",
    "    try:\n",
    "        not_now_button = driver.find_element(By.CLASS_NAME, \"button-link\")\n",
    "        not_now_button.click()\n",
    "    except Exception as e:\n",
    "        print(f\"{e} application banner not found\")\n",
    "                            \n",
    "   \n",
    "    page= driver.page_source  \n",
    "\n",
    "    # Transforming to BeautifulSoup\n",
    "    the_soup = BeautifulSoup(page, 'html.parser') \n",
    "\n",
    "    # Getting all the links from the page\n",
    "    \n",
    "    for card in the_soup.find_all(class_=\"card-title ellipsis pr-2 mt-1 mb-0\"):\n",
    "        print(card)\n",
    "        \n",
    "        link = card.find('a').get('href')\n",
    "        print(link)\n",
    "        links.append(link)\n",
    "    "
   ]
  },
  {
   "cell_type": "code",
   "execution_count": 4,
   "id": "795c67cf",
   "metadata": {},
   "outputs": [
    {
     "name": "stdout",
     "output_type": "stream",
     "text": [
      "Message: element not interactable\n",
      "  (Session info: chrome=137.0.7151.104)\n",
      "Stacktrace:\n",
      "\tGetHandleVerifier [0x0x323783+63299]\n",
      "\tGetHandleVerifier [0x0x3237c4+63364]\n",
      "\t(No symbol) [0x0x150f70]\n",
      "\t(No symbol) [0x0x19aa2b]\n",
      "\t(No symbol) [0x0x18f445]\n",
      "\t(No symbol) [0x0x1be57c]\n",
      "\t(No symbol) [0x0x18eed4]\n",
      "\t(No symbol) [0x0x1be7f4]\n",
      "\t(No symbol) [0x0x1dfa4a]\n",
      "\t(No symbol) [0x0x1be376]\n",
      "\t(No symbol) [0x0x18d6e0]\n",
      "\t(No symbol) [0x0x18e544]\n",
      "\tGetHandleVerifier [0x0x57e073+2531379]\n",
      "\tGetHandleVerifier [0x0x579372+2511666]\n",
      "\tGetHandleVerifier [0x0x349efa+220858]\n",
      "\tGetHandleVerifier [0x0x33a548+156936]\n",
      "\tGetHandleVerifier [0x0x340c7d+183357]\n",
      "\tGetHandleVerifier [0x0x32b6e8+95912]\n",
      "\tGetHandleVerifier [0x0x32b890+96336]\n",
      "\tGetHandleVerifier [0x0x31666a+9770]\n",
      "\tBaseThreadInitThunk [0x0x75ba5d49+25]\n",
      "\tRtlInitializeExceptionChain [0x0x7778d09b+107]\n",
      "\tRtlGetAppContainerNamedObjectPath [0x0x7778d021+561]\n",
      "\t(No symbol) [0x0]\n",
      " application banner not found\n",
      "<h2 class=\"card-title ellipsis pr-2 mt-1 mb-0\" itemprop=\"name\"><a href=\"https://immovlan.be/en/projectdetail/24431-p-vk0101-bswgcnsn\" rel=\"nofollow\" title=\"Project: BegijnHof\">Project: BegijnHof</a></h2>\n",
      "https://immovlan.be/en/projectdetail/24431-p-vk0101-bswgcnsn\n",
      "<h2 class=\"card-title ellipsis pr-2 mt-1 mb-0\" itemprop=\"name\"><a href=\"https://immovlan.be/en/projectdetail/1485771-01267921_om_245264\" rel=\"nofollow\" title=\"Project: Residentie Moulart\">Project: Residentie Moulart</a></h2>\n",
      "https://immovlan.be/en/projectdetail/1485771-01267921_om_245264\n",
      "<h2 class=\"card-title ellipsis pr-2 mt-1 mb-0\" itemprop=\"name\"><a href=\"https://immovlan.be/en/projectdetail/21575-6836025\" rel=\"nofollow\" title=\"Project: Les Terrasses des Arts\">Project: Les Terrasses des Arts</a></h2>\n",
      "https://immovlan.be/en/projectdetail/21575-6836025\n",
      "<h2 class=\"card-title ellipsis pr-2 mt-1 mb-0\" itemprop=\"name\"><a href=\"https://immovlan.be/en/projectdetail/24941-6804581\" rel=\"nofollow\" title=\"Project: Vrasene, Daalstraat (Wijmenhof)\">Project: Vrasene, Daalstraat (Wijmenhof)</a></h2>\n",
      "https://immovlan.be/en/projectdetail/24941-6804581\n",
      "<h2 class=\"card-title ellipsis pr-2 mt-1 mb-0\" itemprop=\"name\"><a href=\"https://immovlan.be/en/projectdetail/24941-6788888\" rel=\"nofollow\" title=\"Project: Berlare, Petrus Mijsstraat\">Project: Berlare, Petrus Mijsstraat</a></h2>\n",
      "https://immovlan.be/en/projectdetail/24941-6788888\n",
      "<h2 class=\"card-title ellipsis pr-2 mt-1 mb-0\" itemprop=\"name\"><a href=\"https://immovlan.be/en/projectdetail/26817-6665922\" rel=\"nofollow\" title=\"Project: RUE DE SGLATIGNIES 9 NEUFMAISON\">Project: RUE DE SGLATIGNIES 9 NEUFMAISON</a></h2>\n",
      "https://immovlan.be/en/projectdetail/26817-6665922\n",
      "<h2 class=\"card-title ellipsis pr-2 mt-1 mb-0\" itemprop=\"name\"><a href=\"https://immovlan.be/en/projectdetail/1383956-01249060_om_3952\" rel=\"nofollow\" title=\"Project: Kapelleweg\">Project: Kapelleweg</a></h2>\n",
      "https://immovlan.be/en/projectdetail/1383956-01249060_om_3952\n",
      "<h2 class=\"card-title ellipsis pr-2 mt-1 mb-0\" itemprop=\"name\"><a href=\"https://immovlan.be/en/detail/apartment/for-sale/8370/blankenberge/rbt70306\" rel=\"nofollow\" title=\"Apartment for sale\">Apartment for sale</a></h2>\n",
      "https://immovlan.be/en/detail/apartment/for-sale/8370/blankenberge/rbt70306\n",
      "<h2 class=\"card-title ellipsis pr-2 mt-1 mb-0\" itemprop=\"name\"><a href=\"https://immovlan.be/en/detail/residence/for-sale/8480/ichtegem/rbt70221\" rel=\"nofollow\" title=\"Residence for sale\">Residence for sale</a></h2>\n",
      "https://immovlan.be/en/detail/residence/for-sale/8480/ichtegem/rbt70221\n",
      "<h2 class=\"card-title ellipsis pr-2 mt-1 mb-0\" itemprop=\"name\"><a href=\"https://immovlan.be/en/detail/residence/for-sale/8470/gistel/rbt70220\" rel=\"nofollow\" title=\"Residence for sale\">Residence for sale</a></h2>\n",
      "https://immovlan.be/en/detail/residence/for-sale/8470/gistel/rbt70220\n",
      "<h2 class=\"card-title ellipsis pr-2 mt-1 mb-0\" itemprop=\"name\"><a href=\"https://immovlan.be/en/detail/apartment/for-sale/1140/evere/vbc89815\" rel=\"nofollow\" title=\"Apartment for sale\">Apartment for sale</a></h2>\n",
      "https://immovlan.be/en/detail/apartment/for-sale/1140/evere/vbc89815\n",
      "<h2 class=\"card-title ellipsis pr-2 mt-1 mb-0\" itemprop=\"name\"><a href=\"https://immovlan.be/en/detail/apartment/for-sale/1090/jette/rbt70097\" rel=\"nofollow\" title=\"Apartment for sale (New construction project)\">Apartment for sale (New construction project)</a></h2>\n",
      "https://immovlan.be/en/detail/apartment/for-sale/1090/jette/rbt70097\n",
      "<h2 class=\"card-title ellipsis pr-2 mt-1 mb-0\" itemprop=\"name\"><a href=\"https://immovlan.be/en/detail/duplex/for-sale/1000/brussels/vbc89694\" rel=\"nofollow\" title=\"Duplex for sale\">Duplex for sale</a></h2>\n",
      "https://immovlan.be/en/detail/duplex/for-sale/1000/brussels/vbc89694\n",
      "<h2 class=\"card-title ellipsis pr-2 mt-1 mb-0\" itemprop=\"name\"><a href=\"https://immovlan.be/en/detail/residence/for-sale/8610/kortemark/rbt69991\" rel=\"nofollow\" title=\"Residence for sale\">Residence for sale</a></h2>\n",
      "https://immovlan.be/en/detail/residence/for-sale/8610/kortemark/rbt69991\n",
      "<h2 class=\"card-title ellipsis pr-2 mt-1 mb-0\" itemprop=\"name\"><a href=\"https://immovlan.be/en/detail/residence/for-sale/9090/gontrode/rbt69725\" rel=\"nofollow\" title=\"Residence for sale\">Residence for sale</a></h2>\n",
      "https://immovlan.be/en/detail/residence/for-sale/9090/gontrode/rbt69725\n",
      "<h2 class=\"card-title ellipsis pr-2 mt-1 mb-0\" itemprop=\"name\"><a href=\"https://immovlan.be/en/detail/duplex/for-sale/3550/zolder/rbt69836\" rel=\"nofollow\" title=\"Duplex for sale\">Duplex for sale</a></h2>\n",
      "https://immovlan.be/en/detail/duplex/for-sale/3550/zolder/rbt69836\n",
      "<h2 class=\"card-title ellipsis pr-2 mt-1 mb-0\" itemprop=\"name\"><a href=\"https://immovlan.be/en/detail/apartment/for-sale/1030/schaarbeek/vbc89520\" rel=\"nofollow\" title=\"Apartment for sale\">Apartment for sale</a></h2>\n",
      "https://immovlan.be/en/detail/apartment/for-sale/1030/schaarbeek/vbc89520\n",
      "<h2 class=\"card-title ellipsis pr-2 mt-1 mb-0\" itemprop=\"name\"><a href=\"https://immovlan.be/en/detail/residence/for-sale/6000/charleroi/vbc89510\" rel=\"nofollow\" title=\"Residence for sale\">Residence for sale</a></h2>\n",
      "https://immovlan.be/en/detail/residence/for-sale/6000/charleroi/vbc89510\n",
      "<h2 class=\"card-title ellipsis pr-2 mt-1 mb-0\" itemprop=\"name\"><a href=\"https://immovlan.be/en/detail/residence/for-sale/8551/heestert/rbt69423\" rel=\"nofollow\" title=\"Residence for sale\">Residence for sale</a></h2>\n",
      "https://immovlan.be/en/detail/residence/for-sale/8551/heestert/rbt69423\n",
      "<h2 class=\"card-title ellipsis pr-2 mt-1 mb-0\" itemprop=\"name\"><a href=\"https://immovlan.be/en/detail/residence/for-sale/1082/berchem-sainte-agathe/vbc89484\" rel=\"nofollow\" title=\"Residence for sale\">Residence for sale</a></h2>\n",
      "https://immovlan.be/en/detail/residence/for-sale/1082/berchem-sainte-agathe/vbc89484\n"
     ]
    }
   ],
   "source": [
    "# Agent for Random Assignemnt\n",
    "ua = UserAgent()\n",
    "\n",
    "# Options for Driver\n",
    "options = Options() \n",
    "options.add_argument(\"start-maximized\")\n",
    "options.add_argument(f\"user-agent={ua.random}\")\n",
    "options.add_argument(\"--enable-javascript\") \n",
    "options.add_experimental_option(\"excludeSwitches\", ['enable-automation'])\n",
    "options.add_experimental_option('useAutomationExtension', False)\n",
    "\n",
    "# Selenium Driver\n",
    "driver = webdriver.Chrome(service=ChromeService(ChromeDriverManager().install()), options=options)\n",
    "driver.execute_cdp_cmd(\"Page.addScriptToEvaluateOnNewDocument\", {\n",
    "    \"source\": \"Object.defineProperty(navigator, 'webdriver', {get: () => undefined})\"\n",
    "})\n",
    "\n",
    "for page in range(1,2):\n",
    "    listing_url = f'https://immovlan.be/en/real-estate?transactiontypes=for-sale,in-public-sale&propertytypes=house,apartment&islifeannuity=no&page={str(page)}&noindex=1'\n",
    "    \n",
    "    get_listing_links(driver, listing_url)"
   ]
  },
  {
   "cell_type": "code",
   "execution_count": 5,
   "id": "b29c089e",
   "metadata": {},
   "outputs": [
    {
     "data": {
      "text/plain": [
       "['https://immovlan.be/en/projectdetail/24431-p-vk0101-bswgcnsn',\n",
       " 'https://immovlan.be/en/projectdetail/1485771-01267921_om_245264',\n",
       " 'https://immovlan.be/en/projectdetail/21575-6836025',\n",
       " 'https://immovlan.be/en/projectdetail/24941-6804581',\n",
       " 'https://immovlan.be/en/projectdetail/24941-6788888',\n",
       " 'https://immovlan.be/en/projectdetail/26817-6665922',\n",
       " 'https://immovlan.be/en/projectdetail/1383956-01249060_om_3952',\n",
       " 'https://immovlan.be/en/detail/apartment/for-sale/8370/blankenberge/rbt70306',\n",
       " 'https://immovlan.be/en/detail/residence/for-sale/8480/ichtegem/rbt70221',\n",
       " 'https://immovlan.be/en/detail/residence/for-sale/8470/gistel/rbt70220',\n",
       " 'https://immovlan.be/en/detail/apartment/for-sale/1140/evere/vbc89815',\n",
       " 'https://immovlan.be/en/detail/apartment/for-sale/1090/jette/rbt70097',\n",
       " 'https://immovlan.be/en/detail/duplex/for-sale/1000/brussels/vbc89694',\n",
       " 'https://immovlan.be/en/detail/residence/for-sale/8610/kortemark/rbt69991',\n",
       " 'https://immovlan.be/en/detail/residence/for-sale/9090/gontrode/rbt69725',\n",
       " 'https://immovlan.be/en/detail/duplex/for-sale/3550/zolder/rbt69836',\n",
       " 'https://immovlan.be/en/detail/apartment/for-sale/1030/schaarbeek/vbc89520',\n",
       " 'https://immovlan.be/en/detail/residence/for-sale/6000/charleroi/vbc89510',\n",
       " 'https://immovlan.be/en/detail/residence/for-sale/8551/heestert/rbt69423',\n",
       " 'https://immovlan.be/en/detail/residence/for-sale/1082/berchem-sainte-agathe/vbc89484']"
      ]
     },
     "execution_count": 5,
     "metadata": {},
     "output_type": "execute_result"
    }
   ],
   "source": [
    "links"
   ]
  },
  {
   "cell_type": "code",
   "execution_count": 6,
   "id": "73a128f9",
   "metadata": {},
   "outputs": [],
   "source": [
    "driver.close()"
   ]
  },
  {
   "cell_type": "code",
   "execution_count": null,
   "id": "48ba7f4f",
   "metadata": {},
   "outputs": [],
   "source": []
  },
  {
   "cell_type": "markdown",
   "id": "66fe206b",
   "metadata": {},
   "source": [
    "## Immoweb"
   ]
  },
  {
   "cell_type": "code",
   "execution_count": null,
   "id": "23b0e40b",
   "metadata": {},
   "outputs": [],
   "source": [
    "# get_list_links definition function:\n",
    "def get_listing_links(driver, url:str) -> None:\n",
    "\n",
    "    #options.add_argument(\"disable-infobars\")\n",
    "\n",
    "    #service = ChromeService(executable_path=ChromeDriverManager().install())\n",
    "    #driver = webdriver.Chrome(service=service, options=options)\n",
    "\n",
    "    driver.get(url)\n",
    "    time.sleep(random.uniform(3,8))\n",
    "\n",
    "    # Click the cookie banner if present\n",
    "    try:\n",
    "        shadow_host = driver.find_element(By.CSS_SELECTOR, \"#usercentrics-root\")\n",
    "        shadow_root1 = driver.execute_script(\"return arguments[0].shadowRoot\", shadow_host)\n",
    "        accept_button = shadow_root1.find_element(By.CSS_SELECTOR, \"button[data-testid='uc-accept-all-button']\")\n",
    "        accept_button.click()\n",
    "    except Exception as e:\n",
    "        print(f\"{e}: Cookie banner not found\")\n",
    "                            \n",
    "   \n",
    "    page= driver.page_source  \n",
    "\n",
    "    # Transforming to BeautifulSoup\n",
    "    the_soup = BeautifulSoup(page, 'html.parser') \n",
    "\n",
    "    # Getting all the links from the page\n",
    "    \n",
    "    for card in the_soup.find_all(class_=\"card__title-link\"):\n",
    "        link = card.get('href')\n",
    "        links.append(link)\n",
    "        property_codes.append(link.rsplit('/', 1)[-1])\n"
   ]
  },
  {
   "cell_type": "code",
   "execution_count": null,
   "id": "f83546cf",
   "metadata": {},
   "outputs": [],
   "source": [
    "# Agent for Random Assignemnt\n",
    "ua = UserAgent()\n",
    "\n",
    "# Options for Driver\n",
    "options = Options() \n",
    "options.add_argument(\"start-maximized\")\n",
    "options.add_argument(f\"user-agent={ua.random}\")\n",
    "options.add_argument(\"--enable-javascript\") \n",
    "options.add_experimental_option(\"excludeSwitches\", ['enable-automation'])\n",
    "options.add_experimental_option('useAutomationExtension', False)\n",
    "\n",
    "# Selenium Driver\n",
    "driver = webdriver.Chrome(service=ChromeService(ChromeDriverManager().install()), options=options)\n",
    "driver.execute_cdp_cmd(\"Page.addScriptToEvaluateOnNewDocument\", {\n",
    "    \"source\": \"Object.defineProperty(navigator, 'webdriver', {get: () => undefined})\"\n",
    "})\n",
    "\n",
    "for page in range(1,4):\n",
    "    first_part_url = 'https://www.immoweb.be/en/search/house-and-apartment/for-sale?countries=BE&isALifeAnnuitySale=false&page='\n",
    "    listing_url = 'https://www.immoweb.be/en/search/house-and-apartment/for-sale?countries=BE&page='+str(page)+'&orderBy=relevance'\n",
    "\n",
    "    get_listing_links(driver, listing_url)"
   ]
  },
  {
   "cell_type": "code",
   "execution_count": null,
   "id": "fee9f88d",
   "metadata": {},
   "outputs": [],
   "source": []
  },
  {
   "cell_type": "code",
   "execution_count": null,
   "id": "3c5ce802",
   "metadata": {},
   "outputs": [],
   "source": [
    "# Creating the URLs\n",
    "for page in range(1,4):\n",
    "    first_part_url = 'https://www.immoweb.be/en/search/house-and-apartment/for-sale?countries=BE&isALifeAnnuitySale=false&page='\n",
    "    listing_url = 'https://www.immoweb.be/en/search/house-and-apartment/for-sale?countries=BE&page='+str(page)+'&orderBy=relevance'\n",
    "\n",
    "    get_listing_links(listing_url)"
   ]
  },
  {
   "cell_type": "markdown",
   "id": "3a5adba5",
   "metadata": {},
   "source": [
    "### Code for one page"
   ]
  },
  {
   "cell_type": "code",
   "execution_count": null,
   "id": "35023ac7",
   "metadata": {},
   "outputs": [],
   "source": [
    "## house_and_appt = 'https://www.immoweb.be/en/search/house-and-apartment/for-sale'"
   ]
  },
  {
   "cell_type": "code",
   "execution_count": null,
   "id": "fd1b8084",
   "metadata": {},
   "outputs": [],
   "source": [
    "first_part_url = 'https://www.immoweb.be/en/search/house-and-apartment/for-sale?countries=BE&isALifeAnnuitySale=false&page='"
   ]
  },
  {
   "cell_type": "code",
   "execution_count": null,
   "id": "8a9cb7a0",
   "metadata": {},
   "outputs": [],
   "source": [
    "number_pages = [1,2,3]\n",
    "page_number = 1"
   ]
  },
  {
   "cell_type": "code",
   "execution_count": null,
   "id": "e610358a",
   "metadata": {},
   "outputs": [],
   "source": [
    "listing_url = 'https://www.immoweb.be/en/search/house-and-apartment/for-sale?countries=BE&page='+str(page_number)+'&orderBy=relevance'\n",
    "listing_url"
   ]
  },
  {
   "cell_type": "code",
   "execution_count": null,
   "id": "cd872896",
   "metadata": {},
   "outputs": [],
   "source": [
    "\n",
    "options = Options()\n",
    "options.add_argument(\"start-maximized\")\n",
    "options.add_argument(\"disable-infobars\")\n",
    "options.add_argument(\"--enable-javascript\") \n",
    "options.add_experimental_option(\"excludeSwitches\", ['enable-automation'])\n",
    "service = ChromeService(executable_path=ChromeDriverManager().install())\n",
    "driver = webdriver.Chrome(service=service, options=options)\n",
    "url = listing_url\n",
    "\n",
    "driver.get(url)\n",
    "time.sleep(5)\n",
    "\n",
    "shadow_host = driver\n",
    "#ok_button = wait.until(EC.presence_of_element_located((By.CSS_SELECTOR, \"button[data-testid = 'uc-accept-all-button']\")))\n",
    "\n",
    "shadow_host = driver.find_element(By.CSS_SELECTOR, \"#usercentrics-root\")\n",
    "shadow_root1 = driver.execute_script(\"return arguments[0].shadowRoot\", shadow_host)\n",
    "accept_button = shadow_root1.find_element(By.CSS_SELECTOR, \"button[data-testid='uc-accept-all-button']\")\n",
    "accept_button.click()\n",
    "                           \n",
    "print(\"SSSSSSSSSSSSSSSSS\")\n",
    "page= driver.page_source \n",
    "page\n"
   ]
  },
  {
   "cell_type": "code",
   "execution_count": null,
   "id": "8d29d250",
   "metadata": {},
   "outputs": [],
   "source": [
    "the_soup = BeautifulSoup(page, 'html.parser') \n",
    "the_soup"
   ]
  },
  {
   "cell_type": "code",
   "execution_count": null,
   "id": "e4a2a645",
   "metadata": {},
   "outputs": [],
   "source": [
    "links = []\n",
    "for card in the_soup.find_all(class_=\"card__title-link\"):\n",
    "    links.append(card.get('href'))"
   ]
  },
  {
   "cell_type": "code",
   "execution_count": null,
   "id": "ee16e49f",
   "metadata": {},
   "outputs": [],
   "source": [
    "for link in links:\n",
    "    print(link)"
   ]
  },
  {
   "cell_type": "code",
   "execution_count": null,
   "id": "bb089e4b",
   "metadata": {},
   "outputs": [],
   "source": [
    "property_codes =[]\n",
    "for link in links:\n",
    "    property_codes.append(link.rsplit('/', 1)[-1])"
   ]
  },
  {
   "cell_type": "markdown",
   "id": "bb3b31e0",
   "metadata": {},
   "source": [
    "### Comprising in dict"
   ]
  },
  {
   "cell_type": "code",
   "execution_count": null,
   "id": "17089bc9",
   "metadata": {},
   "outputs": [],
   "source": [
    "links_with_code = dict(zip(property_codes, links))"
   ]
  },
  {
   "cell_type": "code",
   "execution_count": null,
   "id": "da78c823",
   "metadata": {},
   "outputs": [],
   "source": [
    "for k, v in links_with_code.items():\n",
    "    print(f\"code: {k} for property {v}\")"
   ]
  },
  {
   "cell_type": "code",
   "execution_count": null,
   "id": "65c5bafe",
   "metadata": {},
   "outputs": [],
   "source": [
    "driver.close()"
   ]
  }
 ],
 "metadata": {
  "kernelspec": {
   "display_name": "venv",
   "language": "python",
   "name": "python3"
  },
  "language_info": {
   "codemirror_mode": {
    "name": "ipython",
    "version": 3
   },
   "file_extension": ".py",
   "mimetype": "text/x-python",
   "name": "python",
   "nbconvert_exporter": "python",
   "pygments_lexer": "ipython3",
   "version": "3.10.4"
  }
 },
 "nbformat": 4,
 "nbformat_minor": 5
}
