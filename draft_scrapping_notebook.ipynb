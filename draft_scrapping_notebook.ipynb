{
 "cells": [
  {
   "cell_type": "markdown",
   "id": "683d2a7b",
   "metadata": {},
   "source": [
    "# Notebook for first draft of scrapping"
   ]
  },
  {
   "cell_type": "markdown",
   "id": "6d218d83",
   "metadata": {},
   "source": []
  }
 ],
 "metadata": {
  "kernelspec": {
   "display_name": "venv",
   "language": "python",
   "name": "python3"
  },
  "language_info": {
   "name": "python",
   "version": "3.10.4"
  }
 },
 "nbformat": 4,
 "nbformat_minor": 5
}
