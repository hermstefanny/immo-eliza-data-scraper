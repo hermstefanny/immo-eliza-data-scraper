{
 "cells": [
  {
   "cell_type": "markdown",
   "id": "683d2a7b",
   "metadata": {},
   "source": [
    "# Notebook for first draft of scrapping"
   ]
  },
  {
   "cell_type": "markdown",
   "id": "11ef159c",
   "metadata": {},
   "source": [
    "### Scrapping one page of interest"
   ]
  },
  {
   "cell_type": "code",
   "execution_count": 1,
   "id": "89454f2f",
   "metadata": {},
   "outputs": [],
   "source": [
    "from bs4 import BeautifulSoup\n",
    "import requests\n",
    "from selenium import webdriver\n",
    "from selenium.webdriver.chrome.options import Options\n",
    "from selenium.webdriver.common.by import By\n",
    "from selenium.webdriver.support.ui import WebDriverWait\n",
    "from selenium.webdriver.support import expected_conditions as EC\n",
    "\n",
    "from selenium.webdriver.chrome.service import Service as ChromeService\n",
    "from webdriver_manager.chrome import ChromeDriverManager\n",
    "from selenium_stealth import stealth\n",
    "import random"
   ]
  },
  {
   "cell_type": "code",
   "execution_count": 2,
   "id": "458b4689",
   "metadata": {},
   "outputs": [],
   "source": [
    "appt_url = 'https://www.immoweb.be/en/classified/apartment/for-sale/bruxelles/1050/20773047'"
   ]
  },
  {
   "cell_type": "code",
   "execution_count": 4,
   "id": "8e568e1d",
   "metadata": {},
   "outputs": [],
   "source": [
    "house_and_appt = 'https://www.immoweb.be/en/search/house-and-apartment/for-sale'"
   ]
  },
  {
   "cell_type": "code",
   "execution_count": 5,
   "id": "6efdf136",
   "metadata": {},
   "outputs": [
    {
     "name": "stdout",
     "output_type": "stream",
     "text": [
      "SSSSSSSSSSSSSSSSS\n",
      "<html lang=\"en\"><head><script type=\"text/javascript\" src=\"https://www.immoweb.be/fdNKBMmsLr-c3Xr-FpYGDqDZwTb1I4vjvL245KJLPlO3HLEmYIUUsBIuL19y_r6cg64L69QTmgoit1UIhpD6vA==\"></script><title>immoweb.be</title><style>#cmsg{animation: A 1.5s;}@keyframes A{0%{opacity:0;}99%{opacity:0;}100%{opacity:1;}}</style><meta name=\"viewport\" content=\"width=device-width, initial-scale=1.0\"></head><body style=\"margin:0\"><script data-cfasync=\"false\">var dd={'rt':'c','cid':'AHrlqAAAAAMADwU1R10OsIAAJXjFPA==','hsh':'8C7191D8AA1BF5FBB1B84DC7268196','t':'fe','qp':'','s':54750,'e':'1c7105c1e1de37a392e1ae76f4f2ddc7a666cdedf81bbdfa4c1d4fa9d0736a2d','host':'geo.captcha-delivery.com','cookie':'eL5ZurQml9CuX7cay5rkkjiDoZ2deVewGVgqUc~BDYCsMYPT8VzD~~oGAeyvDP9J_bRaFXUIJ_Yrch8Ysfodzm~NOxOv7npRILolDcvLHNs3i2RLj0oyxooX3sLXQniS'}</script><script data-cfasync=\"false\" src=\"https://ct.captcha-delivery.com/c.js\"></script><iframe src=\"https://geo.captcha-delivery.com/captcha/?initialCid=AHrlqAAAAAMADwU1R10OsIAAJXjFPA%3D%3D&amp;hash=8C7191D8AA1BF5FBB1B84DC7268196&amp;cid=eL5ZurQml9CuX7cay5rkkjiDoZ2deVewGVgqUc~BDYCsMYPT8VzD~~oGAeyvDP9J_bRaFXUIJ_Yrch8Ysfodzm~NOxOv7npRILolDcvLHNs3i2RLj0oyxooX3sLXQniS&amp;t=fe&amp;referer=https%3A%2F%2Fwww.immoweb.be%2Fen%2Fsearch%2Fhouse-and-apartment%2Ffor-sale&amp;s=54750&amp;e=1c7105c1e1de37a392e1ae76f4f2ddc7a666cdedf81bbdfa4c1d4fa9d0736a2d&amp;dm=cd\" sandbox=\"allow-scripts allow-same-origin allow-forms\" title=\"DataDome CAPTCHA\" width=\"100%\" height=\"100%\" style=\"height:100vh;\" frameborder=\"0\" border=\"0\" scrolling=\"yes\"></iframe><xxm-oucrvzqrldjs></xxm-oucrvzqrldjs></body></html>\n"
     ]
    }
   ],
   "source": [
    "\n",
    "options = Options()\n",
    "options.add_argument(\"start-maximized\")\n",
    "options.add_argument(\"disable-infobars\")\n",
    "options.add_argument(\"--enable-javascript\") \n",
    "options.add_experimental_option(\"excludeSwitches\", ['enable-automation'])\n",
    "service = ChromeService(executable_path=ChromeDriverManager().install())\n",
    "driver = webdriver.Chrome(service=service, options=options)\n",
    "url = house_and_appt\n",
    "\n",
    "user_agents = [\n",
    "    # Add your list of user agents here\n",
    "    'Mozilla/5.0 (Windows NT 10.0; Win64; x64) AppleWebKit/537.36 (KHTML, like Gecko) Chrome/109.0.0.0 Safari/537.36',\n",
    "    'Mozilla/5.0 (Macintosh; Intel Mac OS X 10_15_7) AppleWebKit/537.36 (KHTML, like Gecko) Chrome/109.0.0.0 Safari/537.36',\n",
    "    'Mozilla/5.0 (Windows NT 10.0; Win64; x64) AppleWebKit/537.36 (KHTML, like Gecko) Chrome/108.0.0.0 Safari/537.36',\n",
    "    'Mozilla/5.0 (Macintosh; Intel Mac OS X 10_15_7) AppleWebKit/537.36 (KHTML, like Gecko) Chrome/108.0.0.0 Safari/537.36',\n",
    "    'Mozilla/5.0 (X11; Linux x86_64) AppleWebKit/537.36 (KHTML, like Gecko) Chrome/108.0.0.0 Safari/537.36',\n",
    "    'Mozilla/5.0 (Macintosh; Intel Mac OS X 10_15_7) AppleWebKit/605.1.15 (KHTML, like Gecko) Version/16.1 Safari/605.1.15',\n",
    "    'Mozilla/5.0 (Macintosh; Intel Mac OS X 13_1) AppleWebKit/605.1.15 (KHTML, like Gecko) Version/16.1 Safari/605.1.15',\n",
    "]\n",
    "\n",
    "# select random user agent\n",
    "user_agent = random.choice(user_agents)\n",
    "\n",
    "# pass in selected user agent as an argument\n",
    "options.add_argument(f'user-agent={user_agent}')\n",
    "\n",
    "\n",
    "# Step 4: Scrape using Stealth\n",
    "#enable stealth mode\n",
    "stealth(driver,\n",
    "        languages=[\"en-US\", \"en\"],\n",
    "        vendor=\"Google Inc.\",\n",
    "        platform=\"Win32\",\n",
    "        webgl_vendor=\"Intel Inc.\",\n",
    "        renderer=\"Intel Iris OpenGL Engine\",\n",
    "        fix_hairline=True,\n",
    "        )\n",
    "\n",
    "driver.get(url)\n",
    "WebDriverWait(driver, 20).until(EC.presence_of_element_located((By.TAG_NAME, \"body\")))\n",
    "\n",
    "                             \n",
    "print(\"SSSSSSSSSSSSSSSSS\")\n",
    "print(driver.page_source)  # Print the page source\n",
    "\n",
    "#except Exception as e:\n",
    "#   print(f\"An error occurred: {e}\")\n",
    "#finally:\n",
    "    #driver.quit()"
   ]
  },
  {
   "cell_type": "code",
   "execution_count": null,
   "id": "963c54e7",
   "metadata": {},
   "outputs": [],
   "source": []
  }
 ],
 "metadata": {
  "kernelspec": {
   "display_name": "venv",
   "language": "python",
   "name": "python3"
  },
  "language_info": {
   "codemirror_mode": {
    "name": "ipython",
    "version": 3
   },
   "file_extension": ".py",
   "mimetype": "text/x-python",
   "name": "python",
   "nbconvert_exporter": "python",
   "pygments_lexer": "ipython3",
   "version": "3.10.4"
  }
 },
 "nbformat": 4,
 "nbformat_minor": 5
}
